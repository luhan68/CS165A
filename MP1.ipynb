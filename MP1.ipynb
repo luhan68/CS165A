{
  "nbformat": 4,
  "nbformat_minor": 0,
  "metadata": {
    "language_info": {
      "codemirror_mode": {
        "name": "ipython",
        "version": 3
      },
      "file_extension": ".py",
      "mimetype": "text/x-python",
      "name": "python",
      "nbconvert_exporter": "python",
      "pygments_lexer": "ipython3",
      "version": "3.9.1-final"
    },
    "orig_nbformat": 2,
    "kernelspec": {
      "name": "python38064bit1fd77a056f7e4ac19372220262e148e6",
      "display_name": "Python 3.8.0 64-bit",
      "language": "python"
    },
    "colab": {
      "name": "MP1.ipynb",
      "provenance": [],
      "history_visible": true
    }
  },
  "cells": [
    {
      "cell_type": "code",
      "metadata": {
        "id": "KAeWhUqZ7Uvt",
        "outputId": "71977d65-abf2-4476-c4e8-e5610275f21d",
        "colab": {
          "base_uri": "https://localhost:8080/"
        }
      },
      "source": [
        "import numpy as np\n",
        "import pandas as pd\n",
        "\n",
        "\n",
        "raw_train_data = pd.read_csv('covid_train.csv')\n",
        "\n"
      ],
      "execution_count": 33,
      "outputs": [
        {
          "output_type": "execute_result",
          "data": {
            "text/plain": [
              "{1, 2}"
            ]
          },
          "metadata": {
            "tags": []
          },
          "execution_count": 33
        }
      ]
    },
    {
      "cell_type": "code",
      "metadata": {
        "id": "O1Hn9Ado7yjd"
      },
      "source": [
        "def preprocessing(data):\n",
        "  data['age_range'] = pd.cut(x=data['age'], bins=[0,10,20,30,40,50,60,70,80,90,100,120], labels=['0s','10s','20s','30s','40s','50s','60s','70s','80s','90s','100s']) \n",
        "  return data.drop(['entry_date', 'date_symptoms','age'], axis=1)\n"
      ],
      "execution_count": null,
      "outputs": []
    },
    {
      "cell_type": "code",
      "metadata": {
        "id": "aY-hpJ2Z8ATo"
      },
      "source": [
        "def NB(raw_data):\n",
        "  data = preprocessing(raw_data)\n",
        "\n",
        "  prior_p = np.zeros(2)\n",
        "  prior_p[0] = sum(data['date_died']=='9999-99-99')/len(data['date_died'])\n",
        "  prior_p[1] = 1 - prior_p[0]\n",
        "\n",
        "  x = data.drop(['date_died'], axis=1)\n",
        "  cd = {}\n",
        "  for col in range(x.shape[0]):\n",
        "    feature_cd = np.zeros(2,len(set(x.iloc[0,col]))\n",
        "    for n in len(set(x.iloc[0,col])):\n",
        "      feature_cd[0,n] = \n",
        "      feature_cd[1,n] = \n",
        "\n",
        "\n",
        "\n"
      ],
      "execution_count": null,
      "outputs": []
    }
  ]
}