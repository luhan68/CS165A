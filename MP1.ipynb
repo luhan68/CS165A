{
  "nbformat": 4,
  "nbformat_minor": 0,
  "metadata": {
    "language_info": {
      "codemirror_mode": {
        "name": "ipython",
        "version": 3
      },
      "file_extension": ".py",
      "mimetype": "text/x-python",
      "name": "python",
      "nbconvert_exporter": "python",
      "pygments_lexer": "ipython3",
      "version": "3.9.1-final"
    },
    "orig_nbformat": 2,
    "kernelspec": {
      "name": "python38064bit1fd77a056f7e4ac19372220262e148e6",
      "display_name": "Python 3.8.0 64-bit",
      "language": "python"
    },
    "colab": {
      "name": "MP1.ipynb",
      "provenance": []
    }
  },
  "cells": [
    {
      "cell_type": "code",
      "metadata": {
        "id": "KAeWhUqZ7Uvt"
      },
      "source": [
        "import numpy as np\n",
        "import pandas as pd\n",
        "import time\n",
        "\n",
        "start_time = time.time()\n",
        "\n",
        "raw_train_data = pd.read_csv('covid_train.csv')\n",
        "raw_valid_data = pd.read_csv('covid_valid.csv')"
      ],
      "execution_count": 149,
      "outputs": []
    },
    {
      "cell_type": "code",
      "metadata": {
        "id": "O1Hn9Ado7yjd"
      },
      "source": [
        "def preprocessing(data):\n",
        "  data['age_range'] = pd.cut(x=data['age'], bins=[0,30,60,90,120], labels=['0s','30s','60s','90s']) \n",
        "  new_data = data.drop(['entry_date', 'date_symptoms','age'], axis=1)\n",
        "  for col_name in new_data.columns:\n",
        "    new_data[col_name].replace(99, 'unknown',inplace=True)\n",
        "    new_data[col_name].replace(98, 'unknown',inplace=True)\n",
        "    new_data[col_name].replace(97, 'unknown',inplace=True)\n",
        "  return new_data"
      ],
      "execution_count": 150,
      "outputs": []
    },
    {
      "cell_type": "code",
      "metadata": {
        "id": "aY-hpJ2Z8ATo"
      },
      "source": [
        "def NB(raw_data):\n",
        "  data = preprocessing(raw_data)\n",
        "\n",
        "  prior_p = np.zeros(2)\n",
        "  prior_p[0] = sum(data['date_died']=='9999-99-99')/len(data['date_died'])\n",
        "  prior_p[1] = 1 - prior_p[0]\n",
        "\n",
        "  x = data.drop(['date_died'], axis=1)\n",
        "  cd = {}\n",
        "  for col_name in x.columns:\n",
        "    feature_cd = np.zeros((2,len(set(x[col_name]))))\n",
        "    for n in range(len(list(set(x[col_name])))):\n",
        "      feature_n_surive = x.loc[(x[col_name]==list(set(x[col_name]))[n])&(data['date_died']=='9999-99-99'),].shape[0]\n",
        "      feature_cd[0,n] = (feature_n_surive+1) / sum(data['date_died']=='9999-99-99')\n",
        "      feature_n_died = x.loc[(x[col_name]==list(set(x[col_name]))[n])&(data['date_died']!='9999-99-99'),].shape[0]\n",
        "      feature_cd[1,n] = (feature_n_died+1) / sum(data['date_died']!='9999-99-99')\n",
        "\n",
        "    feature_cd = pd.DataFrame(feature_cd,columns=list(set(x[col_name])),index=[0,1])\n",
        "    cd[col_name] = feature_cd\n",
        "\n",
        "  return prior_p, cd\n",
        "\n",
        "prior_p, cd = NB(raw_train_data)"
      ],
      "execution_count": 151,
      "outputs": []
    },
    {
      "cell_type": "code",
      "metadata": {
        "colab": {
          "base_uri": "https://localhost:8080/"
        },
        "id": "PwM_ZvTQJxGK",
        "outputId": "cbad653e-310e-4842-8029-e1291b7dbb83"
      },
      "source": [
        "# cd['icu'].iloc[0,:]\n",
        "data = preprocessing(raw_train_data)\n",
        "data.loc[:,'sex']"
      ],
      "execution_count": 171,
      "outputs": [
        {
          "output_type": "execute_result",
          "data": {
            "text/plain": [
              "0         1\n",
              "1         2\n",
              "2         1\n",
              "3         2\n",
              "4         1\n",
              "         ..\n",
              "283296    1\n",
              "283297    2\n",
              "283298    2\n",
              "283299    1\n",
              "283300    1\n",
              "Name: sex, Length: 283301, dtype: int64"
            ]
          },
          "metadata": {
            "tags": []
          },
          "execution_count": 171
        }
      ]
    },
    {
      "cell_type": "code",
      "metadata": {
        "id": "XtGH3uq5FeKI"
      },
      "source": [
        "def predict(raw_test_data):\n",
        "  test_data = preprocessing(raw_test_data)\n",
        "\n",
        "  y_test = test_data.loc[:,'date_died']\n",
        "  y_test[y_test == '9999-99-99'] = 0\n",
        "  y_test[y_test != '9999-99-99'] = 1\n",
        "\n",
        "  x_test = test_data.drop(['date_died'], axis=1)\n",
        "  result = np.empty((0,x_test.shape[0]))\n",
        "  for row in range(x_test.shape[0]):\n",
        "    p0 = prior_p[0]\n",
        "    p1 = prior_p[1]\n",
        "    for col_name in x_test.columns:\n",
        "      p0 = p0*cd[col_name].iloc[0,:][x_test.loc[row,col_name]]\n",
        "      p1 = p1*cd[col_name].iloc[1,:][x_test.loc[row,col_name]]\n",
        "    \n",
        "    if p0 > p1:\n",
        "      result= np.append(result,0)\n",
        "    else:\n",
        "      result= np.append(result,1)\n",
        "  \n",
        "  accuracy = np.count_nonzero(result == y_test) / x_test.shape[0]\n",
        "\n",
        "  return result,accuracy"
      ],
      "execution_count": 194,
      "outputs": []
    },
    {
      "cell_type": "code",
      "metadata": {
        "id": "WcXxXQTZPNjs"
      },
      "source": [
        "test_result,test_accuracy = predict(raw_valid_data)\n"
      ],
      "execution_count": 188,
      "outputs": []
    },
    {
      "cell_type": "code",
      "metadata": {
        "colab": {
          "base_uri": "https://localhost:8080/"
        },
        "id": "q6-y5Azrmwad",
        "outputId": "7150a960-bdfd-4e9f-976e-357f31fcac21"
      },
      "source": [
        "test_result"
      ],
      "execution_count": 191,
      "outputs": [
        {
          "output_type": "execute_result",
          "data": {
            "text/plain": [
              "array([1., 0., 0., ..., 1., 1., 1.])"
            ]
          },
          "metadata": {
            "tags": []
          },
          "execution_count": 191
        }
      ]
    },
    {
      "cell_type": "code",
      "metadata": {
        "colab": {
          "base_uri": "https://localhost:8080/"
        },
        "id": "USEAyoTzlQi2",
        "outputId": "9d45592f-3765-4f2b-a95d-20a70f4ffb32"
      },
      "source": [
        "result = np.empty((0,1))\n",
        "result = np.append(result,1)\n",
        "result = np.append(result,2)\n",
        "result"
      ],
      "execution_count": 186,
      "outputs": [
        {
          "output_type": "execute_result",
          "data": {
            "text/plain": [
              "array([1., 2.])"
            ]
          },
          "metadata": {
            "tags": []
          },
          "execution_count": 186
        }
      ]
    },
    {
      "cell_type": "code",
      "metadata": {
        "colab": {
          "base_uri": "https://localhost:8080/"
        },
        "id": "ZG9F7g-ThF4-",
        "outputId": "ccd19bdd-181d-45fe-b786-a00b59b87658"
      },
      "source": [
        "train_result,train_accuracy = predict(raw_train_data)"
      ],
      "execution_count": 167,
      "outputs": [
        {
          "output_type": "execute_result",
          "data": {
            "text/plain": [
              "2"
            ]
          },
          "metadata": {
            "tags": []
          },
          "execution_count": 167
        }
      ]
    },
    {
      "cell_type": "code",
      "metadata": {
        "id": "BhCEy5vzYvX1"
      },
      "source": [
        "def main(): \n",
        "\n",
        "  print(\"--- %s seconds ---\" % (time.time() - start_time))"
      ],
      "execution_count": null,
      "outputs": []
    },
    {
      "cell_type": "code",
      "metadata": {
        "id": "rxgl85BDYmvA"
      },
      "source": [
        "if __name__==\"__main__\": \n",
        "    main()"
      ],
      "execution_count": null,
      "outputs": []
    }
  ]
}